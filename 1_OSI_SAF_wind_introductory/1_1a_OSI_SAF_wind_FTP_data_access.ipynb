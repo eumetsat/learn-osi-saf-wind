{
 "cells": [
  {
   "cell_type": "markdown",
   "metadata": {},
   "source": [
    "<img src='https://gitlab.eumetsat.int/eumetlab/oceans/ocean-training/tools/frameworks/-/raw/main/img/OSI-SAF_banner.png' align='right' width='100%'/>"
   ]
  },
  {
   "cell_type": "markdown",
   "metadata": {},
   "source": [
    "<a href=\"../Index.ipynb\" target=\"_blank\"><< Index</a>\n",
    "<br>\n",
    "<a href=\"./1_1b_OSI_SAF_wind_data_access_eumdac.ipynb\">OSI SAF advanced data access via the Data Store using eumdac >></a>"
   ]
  },
  {
   "cell_type": "markdown",
   "metadata": {},
   "source": [
    "<font color=\"#138D75\">**EUMETSAT OSI SAF Training Service**</font> <br>\n",
    "**Copyright:** 2024 EUMETSAT <br>\n",
    "**License:** MIT"
   ]
  },
  {
   "cell_type": "markdown",
   "metadata": {},
   "source": [
    "<html>\n",
    "  <div style=\"width:100%\">\n",
    "    <div style=\"float:left\"><a href=\"https://mybinder.org/v2/git/https%3A%2F%2Fgitlab.eumetsat.int%2Feumetlab%2Foceans%2Focean-training%2Fsensors%2Flearn-osi-saf-wind/HEAD?labpath=1_OSI_SAF_wind_introductory%2F1_1_OSI_SAF_wind_FTP_data_access.ipynb\"><img src=\"https://mybinder.org/badge_logo.svg\" alt=\"Open in Binder\"></a></div>\n",
    "    <div style=\"float:left\"><p>&emsp;</p></div>\n",
    "  </div>\n",
    "</html>"
   ]
  },
  {
   "cell_type": "markdown",
   "metadata": {},
   "source": [
    "<div class=\"alert alert-block alert-success\">\n",
    "<h3>Learn OSI SAF wind: Introductory</h3></div>"
   ]
  },
  {
   "cell_type": "markdown",
   "metadata": {},
   "source": [
    "<div class=\"alert alert-block alert-warning\">\n",
    "    \n",
    "<b>PREREQUISITES </b>\n",
    "    \n",
    "This notebook has the following prerequisites:\n",
    "- **<a href=\"https://osi-saf.eumetsat.int/register\" target=\"_blank\">A EUMETSAT OSI SAF account</a>** if you are using or plan to use the EUMETSAT OSI SAF data.\n",
    "\n",
    "There are no prerequisite notebooks for this module.\n",
    "</div>\n",
    "<hr>"
   ]
  },
  {
   "cell_type": "markdown",
   "metadata": {
    "tags": []
   },
   "source": [
    "# 1.1 Accessing OSI SAF wind products from KNMI FTP server\n",
    "\n",
    "### Data used\n",
    "\n",
    "| Dataset | EUMETSAT collection ID | OSI SAF website description | OSI SAF identifier |\n",
    "|:-----------------:|:-----------------:|:-----------------:|:-----------------:|\n",
    "| Metop-B ASCAT 25 km Winds | EO:EUM:DAT:METOP:OAS025 | <a href=\"https://osi-saf.eumetsat.int/products/osi-102-b\" target=\"_blank\">Description</a> | OSI-102-b | \n",
    "| Metop-C ASCAT 25 km Winds | EO:EUM:DAT:METOP:OAS025 | <a href=\"https://osi-saf.eumetsat.int/products/osi-102-c\" target=\"_blank\">Description</a> | OSI-102-c | \n",
    "| Metop-B ASCAT coastal Winds | EO:EUM:DAT:METOP:OSI-104 | <a href=\"https://osi-saf.eumetsat.int/products/osi-104-b\" target=\"_blank\">Description</a> | OSI-104-b | \n",
    "| Metop-C ASCAT coastal Winds | EO:EUM:DAT:METOP:OSI-104 | <a href=\"https://osi-saf.eumetsat.int/products/osi-104-b\" target=\"_blank\">Description</a> | OSI-104-c | \n",
    "| HY-2B 25 km wind vectors | EO:EUM:DAT:0537 | <a href=\"https://osi-saf.eumetsat.int/products/osi-114-a\" target=\"_blank\">Description</a> | OSI-114-a | \n",
    "| HY-2B 50 km wind vectors | EO:EUM:DAT:0537 | <a href=\"https://osi-saf.eumetsat.int/products/osi-114-b\" target=\"_blank\">Description</a> | OSI-114-b| \n",
    "| HY-2C 25 km wind vectors | EO:EUM:DAT:0539 | <a href=\"https://osi-saf.eumetsat.int/products/osi-115-a\" target=\"_blank\">Description</a> | OSI-115-a | \n",
    "| HY-2C 50 km wind vectors | EO:EUM:DAT:0539 | <a href=\"https://osi-saf.eumetsat.int/products/osi-115-b\" target=\"_blank\">Description</a> | OSI-115-b| \n",
    "\n",
    "### Learning outcomes\n",
    "\n",
    "At the end of this notebook you will know;\n",
    "* How to download Metop ASCAT winds from the KNMI FTP server\n",
    "\n",
    "### Outline\n",
    "\n",
    "\n",
    "Each product package includes:\n",
    "\n",
    "* measurement data files (NetCDF-4 format)\n",
    "\n",
    "<div class=\"alert alert-info\" role=\"alert\">\n",
    "    \n",
    "## <a id='TOC-TOP'></a>Contents\n",
    "\n",
    "</div>\n",
    "\n",
    " 0. [registering on OSI-SAF](#section0)   \n",
    " 1. [Creating our workspace](#section1)\n",
    " 1. [Setting query parameters](#section2)\n",
    " 1. [Downloading via FTP requests](#section3)\n",
    "\n",
    "<hr>"
   ]
  },
  {
   "cell_type": "markdown",
   "metadata": {},
   "source": [
    "<div class=\"alert alert-info\" role=\"alert\">\n",
    "\n",
    "## <a id='section0'></a>0. Registering on OSI-SAF\n",
    "[Back to top](#TOC-TOP)\n",
    "\n",
    "</div>\n",
    "\n",
    "In this notebook, we will be using data from the OSI-SAF products. Before to start accessing data we produce, **<a href=\"https://osi-saf.eumetsat.int/register\" target=\"_blank\">sign up on our website</a>**."
   ]
  },
  {
   "cell_type": "markdown",
   "metadata": {},
   "source": [
    "<div class=\"alert alert-info\" role=\"alert\">\n",
    "\n",
    "## <a id='section1'></a>1. Creating the workspace\n",
    "[Back to top](#TOC-TOP)\n",
    "\n",
    "</div>\n",
    "\n",
    "We begin by importing all of the libraries that we need to run this notebook. If you have built your python using the environment file provided in this repository, then you should have everything you need. For more information on building environment, please see the repository **<a href=\"../README.md\" target=\"_blank\">README</a>**."
   ]
  },
  {
   "cell_type": "code",
   "execution_count": 10,
   "metadata": {},
   "outputs": [],
   "source": [
    "# library imports\n",
    "import os           # a library that allows to access to basic operating system commands like making directories\n",
    "import json         # a library that helps with JSON format files\n",
    "import ftplib       # a library that allows to handle ftp requests\n",
    "import gzip         # a library that allows to handle zip files\n",
    "import shutil       # a library that allows to access to basic operating system commands like making directories"
   ]
  },
  {
   "cell_type": "markdown",
   "metadata": {},
   "source": [
    "Next we will create a download directory to store the products we will download in this notebook."
   ]
  },
  {
   "cell_type": "code",
   "execution_count": 12,
   "metadata": {},
   "outputs": [],
   "source": [
    "download_dir = os.path.join(os.getcwd(), \"products\")\n",
    "os.makedirs(download_dir, exist_ok=True)"
   ]
  },
  {
   "cell_type": "markdown",
   "metadata": {},
   "source": [
    "<div class=\"alert alert-info\" role=\"alert\">\n",
    "\n",
    "## <a id='section2'></a>2. Setting login information\n",
    "[Back to top](#TOC-TOP)\n",
    "\n",
    "</div>\n",
    "\n",
    "We will access OSI SAF from the OSI SAF Wind processing centre FTP server.\n",
    "\n",
    "In order to allow us to download data, we need to provide our credentials. We can do this in two ways; either by creating a file called `.eumetsat_osi_saf_wind_credentials` in our home directory (*option 1 - recommended*) or by supplying our credentials directly in this script (*option 2*). \n",
    "\n",
    "#### Option 1: creating  `.eumetsat_osi_saf_wind_credentials` in our home directory\n",
    "\n",
    "For most computer systems the home directory can be found at the path \\user\\username, /users/username, or /home/username depending on your operating system.\n",
    "\n",
    "In this file we need to add the following information exactly as follows;\n",
    "\n",
    "```\n",
    "{\n",
    "\"username\": \"<provided_username>\",\n",
    "\"password\": \"<provided_password>\"\n",
    "}\n",
    "```\n",
    "\n",
    "You must replace `<provided_username>` and `<provided_password>` with the information provided to you after you have registered to the OSI SAF website and mentionned your interest in Sea Ice data. \n",
    "\n",
    "Once you have created an <a href=\"https://osi-saf.eumetsat.int/register\" target=\"_blank\">EUMETSAT OSI SAF account</a>, the generic password and credentials to access OSI SAF Wind server should have been sent to you via email.\n",
    "\n",
    "Make sure to save the file without any kind of extension.\n",
    "\n",
    "Once you have done this, you can read in your credentials using the commands in the following cell. These will be used to generate a time-limited token, which will refresh itself when it expires."
   ]
  },
  {
   "cell_type": "markdown",
   "metadata": {},
   "source": [
    "Reading credential information"
   ]
  },
  {
   "cell_type": "code",
   "execution_count": 15,
   "metadata": {},
   "outputs": [],
   "source": [
    "# read credentials\n",
    "with open(os.path.join(os.path.expanduser(\"~\"),'.eumetsat_osi_saf_wind_credentials')) as json_file:\n",
    "    credentials = json.load(json_file)"
   ]
  },
  {
   "cell_type": "markdown",
   "metadata": {},
   "source": [
    "Loading credentials"
   ]
  },
  {
   "cell_type": "code",
   "execution_count": 17,
   "metadata": {},
   "outputs": [],
   "source": [
    "username = credentials['username'] \n",
    "password = credentials['password']"
   ]
  },
  {
   "cell_type": "markdown",
   "metadata": {},
   "source": [
    "#### Option 2: provide credentials directly\n",
    "\n",
    "You can provide your credentials directly as follows; by uncommenting the following lines. "
   ]
  },
  {
   "cell_type": "code",
   "execution_count": 19,
   "metadata": {},
   "outputs": [],
   "source": [
    "#username = \"<provided_username>\"\n",
    "#password = \"<provided_password>\""
   ]
  },
  {
   "cell_type": "markdown",
   "metadata": {},
   "source": [
    "You must replace <provided_username> and <provided_password> with the information provided to you after you have registered to the OSI SAF website and mentionned your interest in Sea Ice data.\n",
    "\n",
    "Once you have created an EUMETSAT OSI SAF account, the generic password and credentials to access OSI SAF Wind server should have been sent to you via email.\n",
    "\n",
    "Note: this method is convenient in the short term, but is not really recommended as you have to put your provided username and password in this notebook, and run the risk of accidentally sharing them. This method also requires you to authenticate on a notebook-by-notebook basis."
   ]
  },
  {
   "cell_type": "markdown",
   "metadata": {},
   "source": [
    "<div class=\"alert alert-info\" role=\"alert\">\n",
    "\n",
    "## <a id='section3'></a>3. FTP access winds\n",
    "[Back to top](#TOC-TOP)\n",
    "\n",
    "</div>"
   ]
  },
  {
   "cell_type": "markdown",
   "metadata": {
    "tags": []
   },
   "source": [
    "#### ASCAT B wind 25 km data\n",
    "Let's start by creating a specific folder to hold the Metop-B/Ascat Wind products"
   ]
  },
  {
   "cell_type": "code",
   "execution_count": 23,
   "metadata": {},
   "outputs": [],
   "source": [
    "download_dir = os.path.join(os.getcwd(), \"products\" ,\"ascat_b\", \"25\")\n",
    "os.makedirs(download_dir, exist_ok=True)"
   ]
  },
  {
   "cell_type": "markdown",
   "metadata": {},
   "source": [
    "Set the download path: <br> \n",
    "To do so, you need the name of the orbit file you want to download (remember, with ASCAT 1 orbit = two swaths). To do so, the most efficient way is to explore the KNMI FTP server with a FTP client. The Metop-B/Ascat products are to be found in the directory ftppro.knmi.nl/scat/netcdf/ascat_b/\n",
    "As shown in the example below, you can just use the orbit identifier to get it.<br>\n",
    "__Note that the FTP server only gives access to the last three days of wind data.__ "
   ]
  },
  {
   "cell_type": "code",
   "execution_count": 25,
   "metadata": {},
   "outputs": [],
   "source": [
    "path = '/scat/netcdf/ascat_b/'\n",
    "file_pattern = 'eps_o_250_3301_ovw.l2.nc.gz'"
   ]
  },
  {
   "cell_type": "code",
   "execution_count": 26,
   "metadata": {},
   "outputs": [
    {
     "data": {
      "text/plain": [
       "'221 Goodbye.'"
      ]
     },
     "execution_count": 26,
     "metadata": {},
     "output_type": "execute_result"
    }
   ],
   "source": [
    "# connect ftp and download file\n",
    "ftp = ftplib.FTP(\"ftppro.knmi.nl\") \n",
    "ftp.login(username, password)\n",
    "ftp.cwd(path)\n",
    "files = ftp.nlst()\n",
    "for file in files:\n",
    "    if file_pattern in file and 'md5' not in file:\n",
    "        filename = file\n",
    "ftp.retrbinary(\"RETR \" + filename, open(os.path.join(os.getcwd(), 'products', 'ascat_b', '25', filename), 'wb').write)\n",
    "ftp.quit()"
   ]
  },
  {
   "cell_type": "markdown",
   "metadata": {},
   "source": [
    "Unzip the data file"
   ]
  },
  {
   "cell_type": "code",
   "execution_count": 28,
   "metadata": {},
   "outputs": [],
   "source": [
    "with open(os.path.join(os.getcwd(), 'products', 'ascat_b', '25', filename[:-3]), 'wb') as f_out:\n",
    "    with gzip.open(os.path.join(os.getcwd(), 'products', 'ascat_b', '25', filename), 'rb') as f_in:\n",
    "        shutil.copyfileobj(f_in, f_out)"
   ]
  },
  {
   "cell_type": "markdown",
   "metadata": {
    "tags": []
   },
   "source": [
    "#### ASCAT C wind 25 km data\n",
    "Let's create a specific folder to hold the Metop-C/Ascat Wind products"
   ]
  },
  {
   "cell_type": "code",
   "execution_count": 30,
   "metadata": {},
   "outputs": [],
   "source": [
    "download_dir = os.path.join(os.getcwd(), \"products\", \"ascat_c\", \"25\")\n",
    "os.makedirs(download_dir, exist_ok=True)"
   ]
  },
  {
   "cell_type": "markdown",
   "metadata": {},
   "source": [
    "Set the download path: <br>\n",
    "Proceed as for ASCAT B 25 km data to get the file name you want to download. __Keep in mind the server store 3 days of data__."
   ]
  },
  {
   "cell_type": "code",
   "execution_count": 32,
   "metadata": {},
   "outputs": [],
   "source": [
    "path = '/scat/netcdf/ascat_c/'\n",
    "file_pattern = 'eps_o_250_3301_ovw.l2.nc.gz'"
   ]
  },
  {
   "cell_type": "code",
   "execution_count": 33,
   "metadata": {},
   "outputs": [
    {
     "data": {
      "text/plain": [
       "'221 Goodbye.'"
      ]
     },
     "execution_count": 33,
     "metadata": {},
     "output_type": "execute_result"
    }
   ],
   "source": [
    "# connect ftp and download file\n",
    "ftp = ftplib.FTP(\"ftppro.knmi.nl\") \n",
    "ftp.login(username, password)\n",
    "ftp.cwd(path)\n",
    "files = ftp.nlst()\n",
    "for file in files:\n",
    "    if file_pattern in file and 'md5' not in file:\n",
    "        filename = file\n",
    "ftp.retrbinary(\"RETR \" + filename, open(os.path.join(os.getcwd(), 'products', 'ascat_c', '25', filename), 'wb').write)\n",
    "ftp.quit()"
   ]
  },
  {
   "cell_type": "markdown",
   "metadata": {},
   "source": [
    "Unzip the data file"
   ]
  },
  {
   "cell_type": "code",
   "execution_count": 35,
   "metadata": {},
   "outputs": [],
   "source": [
    "with open(os.path.join(os.getcwd(), 'products', 'ascat_c', '25', filename[:-3]), 'wb') as f_out:\n",
    "    with gzip.open(os.path.join(os.getcwd(), 'products', 'ascat_c', '25', filename), 'rb') as f_in:\n",
    "        shutil.copyfileobj(f_in, f_out)"
   ]
  },
  {
   "cell_type": "markdown",
   "metadata": {
    "tags": []
   },
   "source": [
    "#### ASCAT B coastal wind data\n",
    "\n",
    "The coastal areas are tricky for satellite measurements. Usually they are not taken into account on the data distribution for prediction has the coast generates artefacts. However, observing the wind on coastal areas is important to some users, that's why the OSI SAF wind team process and distributes these \"coastal wind\" dataset out from the same ASCAT instruments. Their higher resolution makes it more coslty to use, but allow getting reliable data from closer to the coasts.\n",
    "<br><br>\n",
    "Let's start by creating a specific folder to hold the Metop-B/Ascat costal Wind products"
   ]
  },
  {
   "cell_type": "code",
   "execution_count": 37,
   "metadata": {},
   "outputs": [],
   "source": [
    "download_dir = os.path.join(os.getcwd(), \"products\", \"ascat_b\", \"coa\")\n",
    "os.makedirs(download_dir, exist_ok=True)"
   ]
  },
  {
   "cell_type": "markdown",
   "metadata": {},
   "source": [
    "Proceed as for ASCAT B 25km and ASCAT C 25kmv to get your file_pattern correct. (cf. upper)"
   ]
  },
  {
   "cell_type": "code",
   "execution_count": 39,
   "metadata": {},
   "outputs": [],
   "source": [
    "path = '/scat/netcdf/ascat_b/'\n",
    "file_pattern = 'eps_o_coa_3301_ovw.l2.nc.gz'"
   ]
  },
  {
   "cell_type": "code",
   "execution_count": 40,
   "metadata": {},
   "outputs": [
    {
     "data": {
      "text/plain": [
       "'221 Goodbye.'"
      ]
     },
     "execution_count": 40,
     "metadata": {},
     "output_type": "execute_result"
    }
   ],
   "source": [
    "# connect ftp and download file\n",
    "ftp = ftplib.FTP(\"ftppro.knmi.nl\") \n",
    "ftp.login(username, password)\n",
    "ftp.cwd(path)\n",
    "files = ftp.nlst()\n",
    "for file in files:\n",
    "    if file_pattern in file and 'md5' not in file:\n",
    "        filename = file\n",
    "ftp.retrbinary(\"RETR \" + filename, open(os.path.join(os.getcwd(), 'products', 'ascat_b', 'coa', filename), 'wb').write)\n",
    "ftp.quit()"
   ]
  },
  {
   "cell_type": "markdown",
   "metadata": {},
   "source": [
    "Unzip the data file"
   ]
  },
  {
   "cell_type": "code",
   "execution_count": 42,
   "metadata": {},
   "outputs": [],
   "source": [
    "with open(os.path.join(os.getcwd(),'products', 'ascat_b', 'coa', filename[:-3]), 'wb') as f_out:\n",
    "    with gzip.open(os.path.join(os.getcwd(), 'products', 'ascat_b', 'coa', filename), 'rb') as f_in:\n",
    "        shutil.copyfileobj(f_in, f_out)"
   ]
  },
  {
   "cell_type": "markdown",
   "metadata": {
    "tags": []
   },
   "source": [
    "#### ASCAT C coastal wind data\n",
    "Let's start by creating a specific folder to hold the Metop-C/Ascat costal Wind products"
   ]
  },
  {
   "cell_type": "code",
   "execution_count": 44,
   "metadata": {},
   "outputs": [],
   "source": [
    "download_dir = os.path.join(os.getcwd(), \"products\", \"ascat_c\", \"coa\")\n",
    "os.makedirs(download_dir, exist_ok=True)"
   ]
  },
  {
   "cell_type": "markdown",
   "metadata": {},
   "source": [
    "Proceed as for ASCAT B 25km and ASCAT C 25kmv to get your file_pattern correct. (cf. upper)"
   ]
  },
  {
   "cell_type": "code",
   "execution_count": 46,
   "metadata": {},
   "outputs": [],
   "source": [
    "path = '/scat/netcdf/ascat_c/'\n",
    "file_pattern = 'eps_o_coa_3301_ovw.l2.nc.gz'"
   ]
  },
  {
   "cell_type": "code",
   "execution_count": 47,
   "metadata": {},
   "outputs": [
    {
     "data": {
      "text/plain": [
       "'221 Goodbye.'"
      ]
     },
     "execution_count": 47,
     "metadata": {},
     "output_type": "execute_result"
    }
   ],
   "source": [
    "# connect ftp and download file\n",
    "ftp = ftplib.FTP(\"ftppro.knmi.nl\") \n",
    "ftp.login(username, password)\n",
    "ftp.cwd(path)\n",
    "files = ftp.nlst()\n",
    "for file in files:\n",
    "    if file_pattern in file and 'md5' not in file:\n",
    "        filename = file\n",
    "ftp.retrbinary(\"RETR \" + filename, open(os.path.join(os.getcwd(), 'products','ascat_c', 'coa', filename), 'wb').write)\n",
    "ftp.quit()"
   ]
  },
  {
   "cell_type": "markdown",
   "metadata": {},
   "source": [
    "Unzip the data file"
   ]
  },
  {
   "cell_type": "code",
   "execution_count": 49,
   "metadata": {},
   "outputs": [],
   "source": [
    "with open(os.path.join(os.getcwd(), 'products', 'ascat_c', 'coa', filename[:-3]), 'wb') as f_out:\n",
    "    with gzip.open(os.path.join(os.getcwd(), 'products', 'ascat_c', 'coa', filename), 'rb') as f_in:\n",
    "        shutil.copyfileobj(f_in, f_out)"
   ]
  },
  {
   "cell_type": "markdown",
   "metadata": {
    "tags": []
   },
   "source": [
    "#### HY-2B 25 km wind data\n",
    "Additionally to winds observed from METOP series satellites, OSI SAF process and distributes wind observation from the Chinese National Satellite Ocean Application Service (NSOAS)'s Hai Yang (HY) series of satellites. The wind observation instrument onboard these satellite is a scatterometer named HSCAT.\n",
    "\n",
    "Let's start by creating a specific folder to hold the HY 2B 25 km Wind products"
   ]
  },
  {
   "cell_type": "code",
   "execution_count": 51,
   "metadata": {},
   "outputs": [],
   "source": [
    "download_dir = os.path.join(os.getcwd(), \"products\", \"hy_2b\", \"25\")\n",
    "os.makedirs(download_dir, exist_ok=True)"
   ]
  },
  {
   "cell_type": "code",
   "execution_count": 52,
   "metadata": {},
   "outputs": [],
   "source": [
    "path = '/scat/netcdf/hy2b'\n",
    "file_pattern = 'o_250_4006_ovw_l2.nc.gz'"
   ]
  },
  {
   "cell_type": "code",
   "execution_count": 53,
   "metadata": {},
   "outputs": [
    {
     "data": {
      "text/plain": [
       "'221 Goodbye.'"
      ]
     },
     "execution_count": 53,
     "metadata": {},
     "output_type": "execute_result"
    }
   ],
   "source": [
    "# connect ftp and download file\n",
    "ftp = ftplib.FTP(\"ftppro.knmi.nl\") \n",
    "ftp.login(username, password)\n",
    "ftp.cwd(path)\n",
    "files = ftp.nlst()\n",
    "for file in files:\n",
    "    if file_pattern in file and 'md5' not in file:\n",
    "        filename = file\n",
    "ftp.retrbinary(\"RETR \" + filename, open(os.path.join(os.getcwd(), 'products', 'hy_2b', '25', filename), 'wb').write)\n",
    "ftp.quit()"
   ]
  },
  {
   "cell_type": "code",
   "execution_count": 54,
   "metadata": {},
   "outputs": [],
   "source": [
    "with open(os.path.join(os.getcwd(), 'products', 'hy_2b', '25', filename[:-3]), 'wb') as f_out:\n",
    "    with gzip.open(os.path.join(os.getcwd(), 'products', 'hy_2b', '25', filename), 'rb') as f_in:\n",
    "        shutil.copyfileobj(f_in, f_out)"
   ]
  },
  {
   "cell_type": "markdown",
   "metadata": {
    "tags": []
   },
   "source": [
    "#### HY-2B 50 km wind data\n",
    "Let's start by creating a specific folder to hold the HY 2B 50 km Wind products"
   ]
  },
  {
   "cell_type": "code",
   "execution_count": 56,
   "metadata": {},
   "outputs": [],
   "source": [
    "download_dir = os.path.join(os.getcwd(), \"products\", \"hy_2b\", \"50\")\n",
    "os.makedirs(download_dir, exist_ok=True)"
   ]
  },
  {
   "cell_type": "code",
   "execution_count": 57,
   "metadata": {},
   "outputs": [],
   "source": [
    "path = '/scat/netcdf/hy2b'\n",
    "file_pattern = 'o_500_4006_ovw_l2.nc.gz'"
   ]
  },
  {
   "cell_type": "code",
   "execution_count": 58,
   "metadata": {},
   "outputs": [
    {
     "data": {
      "text/plain": [
       "'221 Goodbye.'"
      ]
     },
     "execution_count": 58,
     "metadata": {},
     "output_type": "execute_result"
    }
   ],
   "source": [
    "# connect ftp and download file\n",
    "ftp = ftplib.FTP(\"ftppro.knmi.nl\") \n",
    "ftp.login(username, password)\n",
    "ftp.cwd(path)\n",
    "files = ftp.nlst()\n",
    "for file in files:\n",
    "    if file_pattern in file and 'md5' not in file:\n",
    "        filename = file\n",
    "ftp.retrbinary(\"RETR \" + filename, open(os.path.join(os.getcwd(), 'products', 'hy_2b', '50', filename), 'wb').write)\n",
    "ftp.quit()"
   ]
  },
  {
   "cell_type": "code",
   "execution_count": 59,
   "metadata": {},
   "outputs": [],
   "source": [
    "with open(os.path.join(os.getcwd(), 'products', 'hy_2b', '50', filename[:-3]), 'wb') as f_out:\n",
    "    with gzip.open(os.path.join(os.getcwd(), 'products', 'hy_2b', '50', filename), 'rb') as f_in:\n",
    "        shutil.copyfileobj(f_in, f_out)"
   ]
  },
  {
   "cell_type": "markdown",
   "metadata": {
    "tags": []
   },
   "source": [
    "#### HY-2C 25 km wind data\n",
    "Similarly to the METOP series, HY one have several satellite orbiting simultineously. Currently HY-2B, HY-2C and HY-2D are in service. OSI SAF process and distributes data out from these three satellites observations.\n",
    "<br><br>\n",
    "Let's start by creating a specific folder to hold the HY 2C 25 km Wind products"
   ]
  },
  {
   "cell_type": "code",
   "execution_count": 61,
   "metadata": {},
   "outputs": [],
   "source": [
    "download_dir = os.path.join(os.getcwd(), \"products\", \"hy_2c\", \"25\")\n",
    "os.makedirs(download_dir, exist_ok=True)"
   ]
  },
  {
   "cell_type": "code",
   "execution_count": 62,
   "metadata": {},
   "outputs": [],
   "source": [
    "path = '/scat/netcdf/hy2c'\n",
    "file_pattern = 'o_250_4006_ovw_l2.nc.gz'"
   ]
  },
  {
   "cell_type": "code",
   "execution_count": 63,
   "metadata": {},
   "outputs": [
    {
     "data": {
      "text/plain": [
       "'221 Goodbye.'"
      ]
     },
     "execution_count": 63,
     "metadata": {},
     "output_type": "execute_result"
    }
   ],
   "source": [
    "# connect ftp and download file\n",
    "ftp = ftplib.FTP(\"ftppro.knmi.nl\") \n",
    "ftp.login(username, password)\n",
    "ftp.cwd(path)\n",
    "files = ftp.nlst()\n",
    "for file in files:\n",
    "    if file_pattern in file and 'md5' not in file:\n",
    "        filename = file\n",
    "ftp.retrbinary(\"RETR \" + filename, open(os.path.join(os.getcwd(),'products', 'hy_2c', '25', filename), 'wb').write)\n",
    "ftp.quit()"
   ]
  },
  {
   "cell_type": "code",
   "execution_count": 64,
   "metadata": {},
   "outputs": [],
   "source": [
    "with open(os.path.join(os.getcwd(), 'products', 'hy_2c', '25', filename[:-3]), 'wb') as f_out:\n",
    "    with gzip.open(os.path.join(os.getcwd(), 'products', 'hy_2c', '25', filename), 'rb') as f_in:\n",
    "        shutil.copyfileobj(f_in, f_out)"
   ]
  },
  {
   "cell_type": "markdown",
   "metadata": {
    "tags": []
   },
   "source": [
    "#### HY-2C 50 km wind data\n",
    "Let's start by creating a specific folder to hold the HY 2C 50 km Wind products"
   ]
  },
  {
   "cell_type": "code",
   "execution_count": 66,
   "metadata": {},
   "outputs": [],
   "source": [
    "download_dir = os.path.join(os.getcwd(), \"products\", \"hy_2c\", \"50\")\n",
    "os.makedirs(download_dir, exist_ok=True)"
   ]
  },
  {
   "cell_type": "code",
   "execution_count": 67,
   "metadata": {},
   "outputs": [],
   "source": [
    "path = '/scat/netcdf/hy2c'\n",
    "file_pattern = 'o_500_4006_ovw_l2.nc.gz'"
   ]
  },
  {
   "cell_type": "code",
   "execution_count": 68,
   "metadata": {},
   "outputs": [
    {
     "data": {
      "text/plain": [
       "'221 Goodbye.'"
      ]
     },
     "execution_count": 68,
     "metadata": {},
     "output_type": "execute_result"
    }
   ],
   "source": [
    "# connect ftp and download file\n",
    "ftp = ftplib.FTP(\"ftppro.knmi.nl\") \n",
    "ftp.login(username, password)\n",
    "ftp.cwd(path)\n",
    "files = ftp.nlst()\n",
    "for file in files:\n",
    "    if file_pattern in file and 'md5' not in file:\n",
    "        filename = file\n",
    "ftp.retrbinary(\"RETR \" + filename, open(os.path.join(os.getcwd(), 'products', 'hy_2c', '50', filename), 'wb').write)\n",
    "ftp.quit()"
   ]
  },
  {
   "cell_type": "code",
   "execution_count": 69,
   "metadata": {},
   "outputs": [],
   "source": [
    "with open(os.path.join(os.getcwd(), 'products', 'hy_2c', '50', filename[:-3]), 'wb') as f_out:\n",
    "    with gzip.open(os.path.join(os.getcwd(), 'products', 'hy_2c', '50', filename), 'rb') as f_in:\n",
    "        shutil.copyfileobj(f_in, f_out)"
   ]
  },
  {
   "cell_type": "markdown",
   "metadata": {},
   "source": [
    "<hr>\n",
    "<a href=\"../Index.ipynb\" target=\"_blank\"><< Index</a>\n",
    "<br>\n",
    "<a href=\"./1_1b_OSI_SAF_wind_data_access_eumdac.ipynb\">OSI SAF advanced data access via the Data Store using eumdac >></a>\n",
    "<hr>\n",
    "<a href=\"https://gitlab.eumetsat.int/eumetlab/ocean\">View on GitLab</a> | <a href=\"https://training.eumetsat.int/\">EUMETSAT Training</a> | <a href=mailto:ops@eumetsat.int>Contact helpdesk for support </a> | <a href=mailto:training@eumetsat.int>Contact our training team to collaborate on and reuse this material</a></span></p>"
   ]
  }
 ],
 "metadata": {
  "author": "Olivier Membrive, Cécile Hernandez, Ad Stoffelen, Anton Verhoef, Ben Loveday, Hayley Evers-King, Gwenaël Le Bras",
  "content_type": "Software & code",
  "data_access": "SAF archive",
  "deployment": {
   "eumetsat": {
    "binder": {
     "link": "https://mybinder.org/v2/git/https%3A%2F%2Fgitlab.eumetsat.int%2Feumetlab%2Foceans%2Focean-training%2Fsensors%2Flearn-osi-saf-wind/HEAD?labpath=1_OSI_SAF_wind_introductory%2F1_1a_OSI_SAF_wind_FTP_data_access.ipynb",
     "service_contact": "ops@eumetsat.int",
     "service_provider": "EUMETSAT"
    },
    "git": {
     "link": "https://gitlab.eumetsat.int/eumetlab/oceans/ocean-training/sensors/learn-osi-saf-wind/-/blob/main/1_OSI_SAF_wind_introductory/1_1a_OSI_SAF_wind_FTP_data_access.ipynb",
     "service_contact": "ops@eumetsat.int",
     "service_provider": "EUMETSAT"
    }
   },
   "wekeo": {
    "git": {
     "link": " ",
     "service_contact": "ops@eumetsat.int",
     "service_provider": "EUMETSAT"
    },
    "url": {
     "link": " ",
     "service_contact": "ops@eumetsat.int",
     "service_provider": "EUMETSAT"
    }
   }
  },
  "description": "This Jupyter Notebook shows how to access OSI SAF wind data from the KNMI FTP server.",
  "image": "../img/thumbs/1_1a_OSI_SAF_wind_FTP_data_access_thumb.png",
  "kernelspec": {
   "display_name": "Python 3 (ipykernel)",
   "language": "python",
   "name": "python3"
  },
  "language_info": {
   "codemirror_mode": {
    "name": "ipython",
    "version": 3
   },
   "file_extension": ".py",
   "mimetype": "text/x-python",
   "name": "python",
   "nbconvert_exporter": "python",
   "pygments_lexer": "ipython3",
   "version": "3.12.2"
  },
  "license": "MIT",
  "metadata_schema_version": "2.0.0",
  "originator": "EUMETSAT",
  "tags": {
   "data_provider": "EUMETSAT",
   "orbit": "LEO",
   "satellite": [
    "Metop",
    "Hai Yang 2"
   ],
   "sensor": [
    "ACSAT (Metop)",
    "HY-2B SCAT (Hai Yang 2)",
    "HY-2C SCAT (Hai Yang 2)"
   ],
   "service": "",
   "subtheme": "Ocean dynamics",
   "theme": "Marine",
   "variable": [
    "Wind speed",
    "Wind direction",
    "Wind vectors"
   ]
  },
  "title": "Accessing OSI SAF wind products from KNMI FTP server",
  "version": "2.0.0",
  "version_date": "2024-07-01"
 },
 "nbformat": 4,
 "nbformat_minor": 4
}

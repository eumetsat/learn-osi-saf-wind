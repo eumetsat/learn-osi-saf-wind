{
 "cells": [
  {
   "cell_type": "markdown",
   "metadata": {},
   "source": [
    "<img src='https://gitlab.eumetsat.int/eumetlab/oceans/ocean-training/tools/frameworks/-/raw/main/img/OSI-SAF_banner.png' align='right' width='100%'/>"
   ]
  },
  {
   "cell_type": "markdown",
   "metadata": {},
   "source": [
    "<a href=\"../Index.ipynb\" target=\"_blank\"><< Index</a>\n",
    "<br>\n",
    "<a href=\"./1_1a_OSI_SAF_wind_FTP_data_access.ipynb\"><< Accessing OSI SAF wind products from KNMI FTP server</a>&nbsp;&nbsp;&nbsp;&nbsp;&nbsp;<a href=\"./1_2a_OSI_SAF_wind_ASCAT_file_structure.ipynb\">OSI SAF wind ASCAT file structure >></a>"
   ]
  },
  {
   "cell_type": "markdown",
   "metadata": {},
   "source": [
    "<font color=\"#138D75\">**Copernicus Marine Training Service**</font> <br>\n",
    "**Copyright:** 2024 EUMETSAT <br>\n",
    "**License:** MIT <br>"
   ]
  },
  {
   "cell_type": "markdown",
   "metadata": {},
   "source": [
    "<html>\n",
    "  <div style=\"width:100%\">\n",
    "    <div style=\"float:left\"><a href=\"https://mybinder.org/v2/git/https%3A%2F%2Fgitlab.eumetsat.int%2Feumetlab%2Foceans%2Focean-training%2Fsensors%2Flearn-osi-saf-wind/HEAD?labpath=1_OSI_SAF_wind_introductory%2F1_1_OSI_SAF_wind_FTP_data_access.ipynb\"><img src=\"https://mybinder.org/badge_logo.svg\" alt=\"Open in Binder\"></a></div>\n",
    "    <div style=\"float:left\"><p>&emsp;</p></div>\n",
    "  </div>\n",
    "</html>"
   ]
  },
  {
   "cell_type": "markdown",
   "metadata": {},
   "source": [
    "<div class=\"alert alert-block alert-success\">\n",
    "<h3>Learn OSI SAF wind: Introductory - Metop ASCAT wind products</h3></div>"
   ]
  },
  {
   "cell_type": "markdown",
   "metadata": {},
   "source": [
    "# 1.1 OSI SAF advanced data access via the Data Store using eumdac\n",
    "\n",
    "### Data used\n",
    "\n",
    "| Dataset | EUMETSAT collection ID | OSI SAF website description | OSI SAF identifier |\n",
    "|:-----------------:|:-----------------:|:-----------------:|:-----------------:|\n",
    "| Metop-A ASCAT L2 25 km Winds Data Record | EO:EUM:DAT:METOP:OSI-150-A | <a href=\"https://osi-saf.eumetsat.int/products/osi-150-a\" target=\"_blank\">Description</a> | OSI-150-a | \n",
    "| Metop-A ASCAT L2 12.5 km Winds Data Record | EO:EUM:DAT:METOP:OSI-150-b | <a href=\"https://osi-saf.eumetsat.int/products/osi-150-b\" target=\"_blank\">Description</a> | OSI-150-b | \n",
    "| Metop-B ASCAT coastal Winds | EO:EUM:DAT:METOP:OSI-104-b | <a href=\"https://osi-saf.eumetsat.int/products/osi-104-b\" target=\"_blank\">Description</a> | OSI-104-b |\n",
    "| Metop-C ASCAT coastal Winds | EO:EUM:DAT:METOP:OSI-104-c | <a href=\"https://osi-saf.eumetsat.int/products/osi-104-c\" target=\"_blank\">Description</a> | OSI-104-c ||\n",
    "\n",
    "### Learning outcomes\n",
    "\n",
    "At the end of this notebook you will know;\n",
    "* How to download Metop ASCAT winds from the Eumetsat Data Store\n",
    "\n",
    "### Outline\n",
    "\n",
    "\n",
    "Each product package includes:\n",
    "\n",
    "* measurement data files (NetCDF-4 format)\n",
    "\n",
    "<div class=\"alert alert-info\" role=\"alert\">\n",
    "    \n",
    "## <a id='TOC-TOP'></a>Contents\n",
    "\n",
    "</div>\n",
    "\n",
    "1. [Creating the workspace](#section1)\n",
    "1. [Setting login information](#section2)\n",
    "1. [Example 3: Filter by space and time](#section3)\n",
    "1. [Example 4: Download by component](#section4)\n",
    "\n",
    "<hr>"
   ]
  },
  {
   "cell_type": "markdown",
   "metadata": {
    "tags": []
   },
   "source": [
    "<div class=\"alert alert-info\" role=\"alert\">\n",
    "\n",
    "## <a id='section1'></a>1. Creating the workspace\n",
    "[Back to top](#TOC-TOP)\n",
    "\n",
    "</div>\n",
    "\n",
    "We begin by importing all of the libraries that we need to run this notebook. If you have built your python using the environment file provided in this repository, then you should have everything you need. For more information on building environment, please see the repository **<a href=\"../README.md\" target=\"_blank\">README</a>**."
   ]
  },
  {
   "cell_type": "code",
   "execution_count": 8,
   "metadata": {},
   "outputs": [],
   "source": [
    "import os                       # a library that allows us access to basic operating system commands\n",
    "import json                     # a library that helps us make JSON format files\n",
    "import datetime                 # a libary that allows us to work with dates and times\n",
    "import shutil                   # a library that allows us access to basic operating system commands like copy\n",
    "import xarray as xr             # a library that supports the use of multi-dimensional arrays in Python\n",
    "import matplotlib.pyplot as plt # a library that support plotting\n",
    "import numpy as np              # a library that lets us work with arrays; we import this with a new name \"np\"\n",
    "import eumdac                   # a tool that helps us download via the eumetsat/data-store\n",
    "import zipfile                  # a library that support zip file\n",
    "from pathlib import Path        # a library that helps construct system path objects"
   ]
  },
  {
   "cell_type": "markdown",
   "metadata": {},
   "source": [
    "Next we will create directory to store the products we will download in this notebook."
   ]
  },
  {
   "cell_type": "code",
   "execution_count": 10,
   "metadata": {},
   "outputs": [],
   "source": [
    "download_dir = os.path.join(os.getcwd(), \"products\")\n",
    "os.makedirs(download_dir, exist_ok=True)"
   ]
  },
  {
   "cell_type": "markdown",
   "metadata": {
    "tags": []
   },
   "source": [
    "<div class=\"alert alert-info\" role=\"alert\">\n",
    "\n",
    "## <a id='section2'></a>2. Setting login information\n",
    "[Back to top](#TOC-TOP)\n",
    "\n",
    "</div>\n",
    "\n",
    "To access OSI SAF from the <a href=\"https://data.eumetsat.int\">EUMETSAT Data Store</a>. we will use the EUMETSAT Data Access Client (`eumdac`). If you are working with the recommended Anaconda Python distribution and used the supplied environment file (environment.yml) to build this python environment (as detailed in the README), you will already have installed this. If not, you can install eumdac using;\n",
    "\n",
    "`conda install -c eumetsat eumdac`\n",
    "\n",
    "However, you can also find the source code on the <a href=\"https://gitlab.eumetsat.int/eumetlab/data-services/eumdac\">EUMETSAT gitlab</a>. Please visit the EUMETSAT user support confluence spaces for the the <a href=\"https://eumetsatspace.atlassian.net/wiki/spaces/DSDS/overview\">Data Store</a> and <a href=\"https://eumetsatspace.atlassian.net/wiki/spaces/EUMDAC/overview\">eumdac</a> for more information.\n",
    "\n",
    "In order to allow us to download data from the Data Store via API, we need to provide our credentials. We can do this in two ways; either by creating a file called `.eumdac/credentials` in our home directory (*option 1 - recommended*) or by supplying our credentials directly in this script (*option 2*). \n",
    "\n",
    "#### Option 1: creating  `.eumdac/credentials` file in our home directory\n",
    "\n",
    "For most computer systems the home directory can be found at the path \\user\\username, /users/username, or /home/username depending on your operating system. In side this folder we need to create a folder called `.eumdac` (the dot is important) and within that a file called `credentials` (with no extension).\n",
    "\n",
    "In this file we need to add the following information exactly as follows;\n",
    "\n",
    "```\n",
    "<your_consumer_key>,<your_consumer_secret>\n",
    "```\n",
    "\n",
    "You must replace `<your_consumer_key>` and `<your_consumer_secret>` with the information you extract from https://api.eumetsat.int/api-key/. You will need a <a href=\"https://eoportal.eumetsat.int/\">EUMETSAT Earth Observation Portal account</a> to access this link, and in order to see the information you must click the \"Show hidden fields\" button at the bottom of the page. <b>To help with this step, we have made a supporting notebook that will create this file for you. You can find it <a href=\"../working-with-python/API_authentication.ipynb\">here</a>, provided you cloned this repository with it's submodules, as detailed in the README.</b>\n",
    "\n",
    "*Note: your key and secret are permanent, so you only need to do this once, but you should take care to never share them*\n",
    "\n",
    "Once you have done this, you can read in your credentials using the commands in the following cell. These will be used to generate a time-limited token, which will refresh itself when it expires."
   ]
  },
  {
   "cell_type": "code",
   "execution_count": 12,
   "metadata": {},
   "outputs": [
    {
     "name": "stdout",
     "output_type": "stream",
     "text": [
      "This token '5c5eee11-8920-3c33-af1f-7a40a11874b1' expires 2025-06-12 21:33:37.130597\n"
     ]
    }
   ],
   "source": [
    "# load credentials\n",
    "credentials_file = os.path.join(os.path.expanduser(\"~\"),'.eumdac','credentials')\n",
    "credentials = Path(credentials_file).read_text().split(',')\n",
    "token = eumdac.AccessToken((credentials[0], credentials[1]))\n",
    "print(f\"This token '{token}' expires {token.expiration}\")\n",
    "\n",
    "# create data store object\n",
    "datastore = eumdac.DataStore(token)"
   ]
  },
  {
   "cell_type": "markdown",
   "metadata": {},
   "source": [
    "#### Option 2: provide credentials directly\n",
    "\n",
    "You can provide your credentials directly as follows;\n",
    "\n",
    "`token = eumdac.AccessToken((consumer_key, consumer_secret))`\n",
    "\n",
    "*Note: this method is convenient in the short term, but is not really recommended as you have to put your key and secret in this notebook, and run the risk of accidentally sharing them. This method also requires you to authenticate on a notebook-by-notebook basis.*\n",
    "\n",
    "Once we have a token (by either method described above) we can create a **datastore** 'object' that contains all the collections, and filter this list for those that are relevant to us. The code to the right of the colon is what will tell use the ID for the collection we are interested in."
   ]
  },
  {
   "cell_type": "markdown",
   "metadata": {},
   "source": [
    "We will work with the Metop-A ASCAT L2 25 km wind collection and Metop-A ASCAT L2 12.5 km wind collection throughout this notebook. The code for these are `EO:EUM:DAT:METOP:OSI-150-A` and `EO:EUM:DAT:METOP:OSI-150-B`"
   ]
  },
  {
   "cell_type": "code",
   "execution_count": 15,
   "metadata": {},
   "outputs": [],
   "source": [
    "# set collection ID for ASCAT L2 25km winds data record\n",
    "collectionID_1 = 'EO:EUM:DAT:METOP:OSI-150-A'\n",
    "# set collection ID for ASCAT L2 12.5km winds data record\n",
    "collectionID_2 = 'EO:EUM:DAT:METOP:OSI-150-B'\n",
    "# set collection ID for Metop ASCAT costal wind\n",
    "collectionID_3 = 'EO:EUM:DAT:METOP:OSI-104'"
   ]
  },
  {
   "cell_type": "markdown",
   "metadata": {
    "tags": []
   },
   "source": [
    "<div class=\"alert alert-info\" role=\"alert\">\n",
    "\n",
    "## <a id='section3'></a>Example 3: Filtering by space and time\n",
    "[Back to top](#TOC_TOP)\n",
    "\n",
    "</div>"
   ]
  },
  {
   "cell_type": "markdown",
   "metadata": {
    "tags": []
   },
   "source": [
    "#### Metop A ASCAT 25 km wind record\n",
    "Data available until 2014-04-01"
   ]
  },
  {
   "cell_type": "markdown",
   "metadata": {},
   "source": [
    "Let's start by creating a specific folder to hold the Metop-A/Ascat 25 km Wind products"
   ]
  },
  {
   "cell_type": "code",
   "execution_count": 19,
   "metadata": {},
   "outputs": [],
   "source": [
    "download_dir = os.path.join(os.getcwd(), \"products\", \"ascat_a\", \"25\")\n",
    "os.makedirs(download_dir, exist_ok=True)"
   ]
  },
  {
   "cell_type": "markdown",
   "metadata": {},
   "source": [
    "We can filter by time using start date and end date "
   ]
  },
  {
   "cell_type": "code",
   "execution_count": 21,
   "metadata": {},
   "outputs": [],
   "source": [
    "# space/time filter the collection for products\n",
    "selected_collection = datastore.get_collection(collectionID_1)\n",
    "# Select start and end date for search\n",
    "start = datetime.datetime(2014, 3, 31,0,0) # date format YYYY, MM, DD, HH, mm\n",
    "end = datetime.datetime(2014, 3, 31, 6, 0)  # date format YYYY, MM, DD, HH, mm"
   ]
  },
  {
   "cell_type": "markdown",
   "metadata": {},
   "source": [
    "We can also add geographical filtering by passing in a <a href=\"https://en.wikipedia.org/wiki/Well-known_text_representation_of_geometry\" target=\"_blank\">Well Known Text</a> (WKT) format region of interest into the **geo** argument of the `.search()` method."
   ]
  },
  {
   "cell_type": "code",
   "execution_count": 23,
   "metadata": {},
   "outputs": [
    {
     "name": "stdout",
     "output_type": "stream",
     "text": [
      "OR1ASW025_20140331_024611_38634_M02\n",
      "OR1ASW025_20140331_010448_38633_M02\n",
      "OR1ASW025_20140330_232326_38632_M02\n"
     ]
    }
   ],
   "source": [
    "# For ASCAT 25km wind collection\n",
    "roi = [[101.08,36.04], [166.61,36.04], [167.21,-7.19] ,[102.29,-7.95] ,[101.08,36.04]]\n",
    "\n",
    "products = selected_collection.search(\n",
    "        geo='POLYGON(({}))'.format(','.join([\"{} {}\".format(*coord) for coord in roi])),\n",
    "        dtstart=start,\n",
    "        dtend=end)\n",
    "\n",
    "for product in products:\n",
    "    print(product)"
   ]
  },
  {
   "cell_type": "markdown",
   "metadata": {},
   "source": [
    "Or filtering a square region into the **bbox** argument (usefull for square region)"
   ]
  },
  {
   "cell_type": "code",
   "execution_count": 25,
   "metadata": {},
   "outputs": [
    {
     "name": "stdout",
     "output_type": "stream",
     "text": [
      "OR1ASW025_20140331_024611_38634_M02\n",
      "OR1ASW025_20140331_010448_38633_M02\n",
      "OR1ASW025_20140330_232326_38632_M02\n"
     ]
    }
   ],
   "source": [
    "# For ASCAT 25km wind collection\n",
    "area = '97.94, -4.91, 171.03, 36.86' # longitude min, latitude min, longitude max, latitude max\n",
    "products = selected_collection.search(\n",
    "        bbox=area, \n",
    "        dtstart=start, \n",
    "        dtend=end)\n",
    "\n",
    "for product in products:\n",
    "        print(product)"
   ]
  },
  {
   "cell_type": "markdown",
   "metadata": {},
   "source": [
    "Downloading by component.\\\n",
    "It is possible to download any component of a SAFE format file. This can be achieved by using iterating through the `entries` attribute of a product and string matching to your component of interest - in this case the manifest file. This method can be used to prune downloads for the enhanced, reduced or standard measurements only.\n",
    "\n",
    "*Note: It is not currently possible to download a single variable from **inside** a netCDF file*."
   ]
  },
  {
   "cell_type": "code",
   "execution_count": 27,
   "metadata": {},
   "outputs": [
    {
     "name": "stdout",
     "output_type": "stream",
     "text": [
      "Retrieving: OR1ASW025_20140331_024611_38634_M02\n",
      "Downloading OR1ASW025_20140331_024611_38634_M02.zip.\n",
      "Download of product OR1ASW025_20140331_024611_38634_M02.zip finished.\n",
      "Unzipping of product /Users/benloveday/Code/git_repositories/CMTS/internal/ocean/sensors/learn-osi-saf-wind/1_OSI_SAF_wind_introductory/products/ascat_a/25/OR1ASW025_20140331_024611_38634_M02.zip finished.\n",
      "Retrieving: OR1ASW025_20140331_010448_38633_M02\n",
      "Downloading OR1ASW025_20140331_010448_38633_M02.zip.\n",
      "Download of product OR1ASW025_20140331_010448_38633_M02.zip finished.\n",
      "Unzipping of product /Users/benloveday/Code/git_repositories/CMTS/internal/ocean/sensors/learn-osi-saf-wind/1_OSI_SAF_wind_introductory/products/ascat_a/25/OR1ASW025_20140331_010448_38633_M02.zip finished.\n",
      "Retrieving: OR1ASW025_20140330_232326_38632_M02\n",
      "Downloading OR1ASW025_20140330_232326_38632_M02.zip.\n",
      "Download of product OR1ASW025_20140330_232326_38632_M02.zip finished.\n",
      "Unzipping of product /Users/benloveday/Code/git_repositories/CMTS/internal/ocean/sensors/learn-osi-saf-wind/1_OSI_SAF_wind_introductory/products/ascat_a/25/OR1ASW025_20140330_232326_38632_M02.zip finished.\n"
     ]
    }
   ],
   "source": [
    "for product_id in products:\n",
    "    print(f\"Retrieving: {product_id}\")    \n",
    "\n",
    "    # selected_collection = datastore.get_collection(collection_id)\n",
    "    selected_product = datastore.get_product(product_id=product_id, collection_id=collectionID_1)\n",
    "\n",
    "    with selected_product.open() as fsrc, open(os.path.join(download_dir, fsrc.name), mode='wb') as fdst:\n",
    "        print(f'Downloading {fsrc.name}.')\n",
    "        shutil.copyfileobj(fsrc, fdst)\n",
    "        print(f'Download of product {fsrc.name} finished.')\n",
    "\n",
    "    with zipfile.ZipFile(fdst.name, 'r') as zip_ref:\n",
    "        for file in zip_ref.namelist():\n",
    "            if file.startswith(str(selected_product)):\n",
    "                zip_ref.extract(file, download_dir)\n",
    "        print(f'Unzipping of product {fdst.name} finished.')\n",
    "\n",
    "    os.remove(fdst.name)"
   ]
  },
  {
   "cell_type": "markdown",
   "metadata": {
    "tags": []
   },
   "source": [
    "#### Metop A ASCAT 12.5 km wind data record\n",
    "Data available until 2014-04-01"
   ]
  },
  {
   "cell_type": "markdown",
   "metadata": {},
   "source": [
    "Let's start by creating a specific folder to hold the Metop-A/Ascat 12.5 km Wind products"
   ]
  },
  {
   "cell_type": "code",
   "execution_count": 30,
   "metadata": {},
   "outputs": [],
   "source": [
    "download_dir = os.path.join(os.getcwd(), \"products\", \"ascat_a\", \"12\")\n",
    "os.makedirs(download_dir, exist_ok=True)"
   ]
  },
  {
   "cell_type": "markdown",
   "metadata": {},
   "source": [
    "We can filter by time using start date and end date "
   ]
  },
  {
   "cell_type": "code",
   "execution_count": 32,
   "metadata": {},
   "outputs": [],
   "source": [
    "# space/time filter the collection for products\n",
    "selected_collection = datastore.get_collection(collectionID_2)\n",
    "# Select start and end date for search\n",
    "start = datetime.datetime(2014, 3, 31,0,0) # date format YYYY, MM, DD, HH, mm\n",
    "end = datetime.datetime(2014, 3, 31, 6, 0)  # date format YYYY, MM, DD, HH, mm"
   ]
  },
  {
   "cell_type": "markdown",
   "metadata": {},
   "source": [
    "We can also add geographical filtering by passing in a <a href=\"https://en.wikipedia.org/wiki/Well-known_text_representation_of_geometry\" target=\"_blank\">Well Known Text</a> (WKT) format region of interest into the **geo** argument of the `.search()` method."
   ]
  },
  {
   "cell_type": "code",
   "execution_count": 34,
   "metadata": {},
   "outputs": [
    {
     "name": "stdout",
     "output_type": "stream",
     "text": [
      "OR1ASWC12_20140331_024607_38634_M02\n",
      "OR1ASWC12_20140331_010446_38633_M02\n",
      "OR1ASWC12_20140330_232324_38632_M02\n"
     ]
    }
   ],
   "source": [
    "# For ASCAT 12.5km wind collection\n",
    "roi = [[101.08,36.04], [166.61,36.04], [167.21,-7.19] ,[102.29,-7.95] ,[101.08,36.04]]\n",
    "products = selected_collection.search(\n",
    "        geo='POLYGON(({}))'.format(','.join([\"{} {}\".format(*coord) for coord in roi])),\n",
    "        dtstart=start,\n",
    "        dtend=end)\n",
    "\n",
    "for product in products:\n",
    "    print(product)"
   ]
  },
  {
   "cell_type": "markdown",
   "metadata": {},
   "source": [
    "Or filtering a square region into the **bbox** argument (usefull for square region)"
   ]
  },
  {
   "cell_type": "code",
   "execution_count": 36,
   "metadata": {},
   "outputs": [
    {
     "name": "stdout",
     "output_type": "stream",
     "text": [
      "OR1ASWC12_20140331_024607_38634_M02\n",
      "OR1ASWC12_20140331_010446_38633_M02\n",
      "OR1ASWC12_20140330_232324_38632_M02\n"
     ]
    }
   ],
   "source": [
    "# For ASCAT 12.5km wind collection\n",
    "area = '97.94, -4.91, 171.03, 36.86' # longitude min, latitude min, longitude max, latitude max\n",
    "products = selected_collection.search(\n",
    "        bbox=area, \n",
    "        dtstart=start, \n",
    "        dtend=end)\n",
    "\n",
    "for product in products:\n",
    "        print(product)"
   ]
  },
  {
   "cell_type": "markdown",
   "metadata": {},
   "source": [
    "Downloading by component.\\\n",
    "It is possible to download any component of a SAFE format file. This can be achieved by using iterating through the `entries` attribute of a product and string matching to your component of interest - in this case the manifest file. This method can be used to prune downloads for the enhanced, reduced or standard measurements only.\n",
    "\n",
    "*Note: It is not currently possible to download a single variable from **inside** a netCDF file*."
   ]
  },
  {
   "cell_type": "code",
   "execution_count": 38,
   "metadata": {},
   "outputs": [
    {
     "name": "stdout",
     "output_type": "stream",
     "text": [
      "Retrieving: OR1ASWC12_20140331_024607_38634_M02\n",
      "Downloading OR1ASWC12_20140331_024607_38634_M02.zip.\n",
      "Download of product OR1ASWC12_20140331_024607_38634_M02.zip finished.\n",
      "Unzipping of product /Users/benloveday/Code/git_repositories/CMTS/internal/ocean/sensors/learn-osi-saf-wind/1_OSI_SAF_wind_introductory/products/ascat_a/12/OR1ASWC12_20140331_024607_38634_M02.zip finished.\n",
      "Retrieving: OR1ASWC12_20140331_010446_38633_M02\n",
      "Downloading OR1ASWC12_20140331_010446_38633_M02.zip.\n",
      "Download of product OR1ASWC12_20140331_010446_38633_M02.zip finished.\n",
      "Unzipping of product /Users/benloveday/Code/git_repositories/CMTS/internal/ocean/sensors/learn-osi-saf-wind/1_OSI_SAF_wind_introductory/products/ascat_a/12/OR1ASWC12_20140331_010446_38633_M02.zip finished.\n",
      "Retrieving: OR1ASWC12_20140330_232324_38632_M02\n",
      "Downloading OR1ASWC12_20140330_232324_38632_M02.zip.\n",
      "Download of product OR1ASWC12_20140330_232324_38632_M02.zip finished.\n",
      "Unzipping of product /Users/benloveday/Code/git_repositories/CMTS/internal/ocean/sensors/learn-osi-saf-wind/1_OSI_SAF_wind_introductory/products/ascat_a/12/OR1ASWC12_20140330_232324_38632_M02.zip finished.\n"
     ]
    }
   ],
   "source": [
    "for product_id in products:\n",
    "    print(f\"Retrieving: {product_id}\")    \n",
    "\n",
    "    # selected_collection = datastore.get_collection(collection_id)\n",
    "    selected_product = datastore.get_product(product_id=product_id, collection_id=collectionID_2)\n",
    "\n",
    "    with selected_product.open() as fsrc, open(os.path.join(download_dir, fsrc.name), mode='wb') as fdst:\n",
    "        print(f'Downloading {fsrc.name}.')\n",
    "        shutil.copyfileobj(fsrc, fdst)\n",
    "        print(f'Download of product {fsrc.name} finished.')\n",
    "\n",
    "    with zipfile.ZipFile(fdst.name, 'r') as zip_ref:\n",
    "        for file in zip_ref.namelist():\n",
    "            if file.startswith(str(selected_product)):\n",
    "                zip_ref.extract(file, download_dir)\n",
    "        print(f'Unzipping of product {fdst.name} finished.')\n",
    "\n",
    "    os.remove(fdst.name)"
   ]
  },
  {
   "cell_type": "markdown",
   "metadata": {
    "tags": []
   },
   "source": [
    "#### Metop B/C coastal wind "
   ]
  },
  {
   "cell_type": "markdown",
   "metadata": {},
   "source": [
    "Let's start by creating a specific folder to hold the Metop-B and Metop-C/Ascat coastal Wind products"
   ]
  },
  {
   "cell_type": "code",
   "execution_count": 41,
   "metadata": {},
   "outputs": [],
   "source": [
    "# Create a new directory for Metop B costal wind\n",
    "download_dir1 = os.path.join(os.getcwd(), \"products\", \"ascat_b\")\n",
    "os.makedirs(download_dir1, exist_ok=True)\n",
    "\n",
    "# Create a new directory for Metop C costal wind\n",
    "download_dir2 = os.path.join(os.getcwd(), \"products\", \"ascat_c\", \"coa\")\n",
    "os.makedirs(download_dir2, exist_ok=True)"
   ]
  },
  {
   "cell_type": "markdown",
   "metadata": {},
   "source": [
    "We can filter by time using start date and end date "
   ]
  },
  {
   "cell_type": "code",
   "execution_count": 43,
   "metadata": {},
   "outputs": [],
   "source": [
    "# space/time filter the collection for products\n",
    "selected_collection = datastore.get_collection(collectionID_3)\n",
    "# Select start and end date for search\n",
    "start = datetime.datetime(2023, 6, 13,0,0) # date format YYYY, MM, DD, HH, mm\n",
    "end = datetime.datetime(2023, 6, 13, 6, 0)  # date format YYYY, MM, DD, HH, mm"
   ]
  },
  {
   "cell_type": "markdown",
   "metadata": {},
   "source": [
    "We can also add geographical filtering by passing in a <a href=\"https://en.wikipedia.org/wiki/Well-known_text_representation_of_geometry\" target=\"_blank\">Well Known Text</a> (WKT) format region of interest into the **geo** argument of the `.search()` method."
   ]
  },
  {
   "cell_type": "code",
   "execution_count": 45,
   "metadata": {},
   "outputs": [
    {
     "name": "stdout",
     "output_type": "stream",
     "text": [
      "ascat_20230613_023900_metopc_23855_eps_o_coa_3301_ovw.l2\n",
      "ascat_20230613_014800_metopb_55697_eps_o_coa_3301_ovw.l2\n",
      "ascat_20230613_005700_metopc_23854_eps_o_coa_3301_ovw.l2\n",
      "ascat_20230613_000600_metopb_55696_eps_o_coa_3301_ovw.l2\n",
      "ascat_20230612_231800_metopc_23853_eps_o_coa_3301_ovw.l2\n",
      "ascat_20230612_222400_metopb_55695_eps_o_coa_3301_ovw.l2\n"
     ]
    }
   ],
   "source": [
    "roi = [[101.08,36.04], [166.61,36.04], [167.21,-7.19] ,[102.29,-7.95] ,[101.08,36.04]]\n",
    "products = selected_collection.search(\n",
    "        geo='POLYGON(({}))'.format(','.join([\"{} {}\".format(*coord) for coord in roi])),\n",
    "        dtstart=start,\n",
    "        dtend=end)\n",
    "\n",
    "for product in products:\n",
    "    print(product)"
   ]
  },
  {
   "cell_type": "markdown",
   "metadata": {},
   "source": [
    "Or filtering a square region into the **bbox** argument (usefull for square region)"
   ]
  },
  {
   "cell_type": "code",
   "execution_count": 47,
   "metadata": {},
   "outputs": [
    {
     "name": "stdout",
     "output_type": "stream",
     "text": [
      "ascat_20230613_032700_metopb_55698_eps_o_coa_3301_ovw.l2\n",
      "ascat_20230613_023900_metopc_23855_eps_o_coa_3301_ovw.l2\n",
      "ascat_20230613_014800_metopb_55697_eps_o_coa_3301_ovw.l2\n",
      "ascat_20230613_005700_metopc_23854_eps_o_coa_3301_ovw.l2\n",
      "ascat_20230613_000600_metopb_55696_eps_o_coa_3301_ovw.l2\n",
      "ascat_20230612_231800_metopc_23853_eps_o_coa_3301_ovw.l2\n",
      "ascat_20230612_222400_metopb_55695_eps_o_coa_3301_ovw.l2\n"
     ]
    }
   ],
   "source": [
    "area = '97.94, -4.91, 171.03, 36.86' # longitude min, latitude min, longitude max, latitude max\n",
    "products = selected_collection.search(\n",
    "        bbox=area, \n",
    "        dtstart=start, \n",
    "        dtend=end)\n",
    "\n",
    "for product in products:\n",
    "        print(product)"
   ]
  },
  {
   "cell_type": "markdown",
   "metadata": {},
   "source": [
    "Downloading by component.\\\n",
    "It is possible to download any component of a SAFE format file. This can be achieved by using iterating through the `entries` attribute of a product and string matching to your component of interest - in this case the manifest file. This method can be used to prune downloads for the enhanced, reduced or standard measurements only.\n",
    "\n",
    "*Note: It is not currently possible to download a single variable from **inside** a netCDF file*."
   ]
  },
  {
   "cell_type": "markdown",
   "metadata": {},
   "source": [
    "Downloading Metop B data"
   ]
  },
  {
   "cell_type": "code",
   "execution_count": 50,
   "metadata": {},
   "outputs": [
    {
     "name": "stdout",
     "output_type": "stream",
     "text": [
      "Retrieving: ascat_20230613_032700_metopb_55698_eps_o_coa_3301_ovw.l2\n",
      "Downloading ascat_20230613_032700_metopb_55698_eps_o_coa_3301_ovw.l2.zip.\n",
      "Download of product ascat_20230613_032700_metopb_55698_eps_o_coa_3301_ovw.l2.zip finished.\n",
      "Unzipping of product /Users/benloveday/Code/git_repositories/CMTS/internal/ocean/sensors/learn-osi-saf-wind/1_OSI_SAF_wind_introductory/products/ascat_b/ascat_20230613_032700_metopb_55698_eps_o_coa_3301_ovw.l2.zip finished.\n",
      "Retrieving: ascat_20230613_014800_metopb_55697_eps_o_coa_3301_ovw.l2\n",
      "Downloading ascat_20230613_014800_metopb_55697_eps_o_coa_3301_ovw.l2.zip.\n",
      "Download of product ascat_20230613_014800_metopb_55697_eps_o_coa_3301_ovw.l2.zip finished.\n",
      "Unzipping of product /Users/benloveday/Code/git_repositories/CMTS/internal/ocean/sensors/learn-osi-saf-wind/1_OSI_SAF_wind_introductory/products/ascat_b/ascat_20230613_014800_metopb_55697_eps_o_coa_3301_ovw.l2.zip finished.\n",
      "Retrieving: ascat_20230613_000600_metopb_55696_eps_o_coa_3301_ovw.l2\n",
      "Downloading ascat_20230613_000600_metopb_55696_eps_o_coa_3301_ovw.l2.zip.\n",
      "Download of product ascat_20230613_000600_metopb_55696_eps_o_coa_3301_ovw.l2.zip finished.\n",
      "Unzipping of product /Users/benloveday/Code/git_repositories/CMTS/internal/ocean/sensors/learn-osi-saf-wind/1_OSI_SAF_wind_introductory/products/ascat_b/ascat_20230613_000600_metopb_55696_eps_o_coa_3301_ovw.l2.zip finished.\n",
      "Retrieving: ascat_20230612_222400_metopb_55695_eps_o_coa_3301_ovw.l2\n",
      "Downloading ascat_20230612_222400_metopb_55695_eps_o_coa_3301_ovw.l2.zip.\n",
      "Download of product ascat_20230612_222400_metopb_55695_eps_o_coa_3301_ovw.l2.zip finished.\n",
      "Unzipping of product /Users/benloveday/Code/git_repositories/CMTS/internal/ocean/sensors/learn-osi-saf-wind/1_OSI_SAF_wind_introductory/products/ascat_b/ascat_20230612_222400_metopb_55695_eps_o_coa_3301_ovw.l2.zip finished.\n"
     ]
    }
   ],
   "source": [
    "for product_id in products:\n",
    "    # Downloading data from Metop B\n",
    "    if \"metopb\" in str(product_id):\n",
    "        print(f\"Retrieving: {product_id}\")    \n",
    "    \n",
    "        # selected_collection = datastore.get_collection(collection_id)\n",
    "        selected_product = datastore.get_product(product_id=product_id, collection_id=collectionID_3)\n",
    "\n",
    "        with selected_product.open() as fsrc, open(os.path.join(download_dir1, fsrc.name), mode='wb') as fdst:\n",
    "            print(f'Downloading {fsrc.name}.')\n",
    "            shutil.copyfileobj(fsrc, fdst)\n",
    "            print(f'Download of product {fsrc.name} finished.')\n",
    "\n",
    "        with zipfile.ZipFile(fdst.name, 'r') as zip_ref:\n",
    "            for file in zip_ref.namelist():\n",
    "                if file.startswith(str(selected_product)):\n",
    "                    zip_ref.extract(file, download_dir1)\n",
    "            print(f'Unzipping of product {fdst.name} finished.')\n",
    "    \n",
    "        os.remove(fdst.name)"
   ]
  },
  {
   "cell_type": "markdown",
   "metadata": {},
   "source": [
    "Downloading Metop C data"
   ]
  },
  {
   "cell_type": "code",
   "execution_count": 52,
   "metadata": {},
   "outputs": [
    {
     "name": "stdout",
     "output_type": "stream",
     "text": [
      "Retrieving: ascat_20230613_023900_metopc_23855_eps_o_coa_3301_ovw.l2\n",
      "Downloading ascat_20230613_023900_metopc_23855_eps_o_coa_3301_ovw.l2.zip.\n",
      "Download of product ascat_20230613_023900_metopc_23855_eps_o_coa_3301_ovw.l2.zip finished.\n",
      "Unzipping of product /Users/benloveday/Code/git_repositories/CMTS/internal/ocean/sensors/learn-osi-saf-wind/1_OSI_SAF_wind_introductory/products/ascat_c/coa/ascat_20230613_023900_metopc_23855_eps_o_coa_3301_ovw.l2.zip finished.\n",
      "Retrieving: ascat_20230613_005700_metopc_23854_eps_o_coa_3301_ovw.l2\n",
      "Downloading ascat_20230613_005700_metopc_23854_eps_o_coa_3301_ovw.l2.zip.\n",
      "Download of product ascat_20230613_005700_metopc_23854_eps_o_coa_3301_ovw.l2.zip finished.\n",
      "Unzipping of product /Users/benloveday/Code/git_repositories/CMTS/internal/ocean/sensors/learn-osi-saf-wind/1_OSI_SAF_wind_introductory/products/ascat_c/coa/ascat_20230613_005700_metopc_23854_eps_o_coa_3301_ovw.l2.zip finished.\n",
      "Retrieving: ascat_20230612_231800_metopc_23853_eps_o_coa_3301_ovw.l2\n",
      "Downloading ascat_20230612_231800_metopc_23853_eps_o_coa_3301_ovw.l2.zip.\n",
      "Download of product ascat_20230612_231800_metopc_23853_eps_o_coa_3301_ovw.l2.zip finished.\n",
      "Unzipping of product /Users/benloveday/Code/git_repositories/CMTS/internal/ocean/sensors/learn-osi-saf-wind/1_OSI_SAF_wind_introductory/products/ascat_c/coa/ascat_20230612_231800_metopc_23853_eps_o_coa_3301_ovw.l2.zip finished.\n"
     ]
    }
   ],
   "source": [
    "for product_id in products:\n",
    "    # Downloading data from Metop C\n",
    "    if \"metopc\" in str(product_id):\n",
    "        print(f\"Retrieving: {product_id}\")    \n",
    "    \n",
    "        # selected_collection = datastore.get_collection(collection_id)\n",
    "        selected_product = datastore.get_product(product_id=product_id, collection_id=collectionID_3)\n",
    "\n",
    "        with selected_product.open() as fsrc, open(os.path.join(download_dir2, fsrc.name), mode='wb') as fdst:\n",
    "            print(f'Downloading {fsrc.name}.')\n",
    "            shutil.copyfileobj(fsrc, fdst)\n",
    "            print(f'Download of product {fsrc.name} finished.')\n",
    "\n",
    "        with zipfile.ZipFile(fdst.name, 'r') as zip_ref:\n",
    "            for file in zip_ref.namelist():\n",
    "                if file.startswith(str(selected_product)):\n",
    "                    zip_ref.extract(file, download_dir2)\n",
    "            print(f'Unzipping of product {fdst.name} finished.')\n",
    "    \n",
    "        os.remove(fdst.name)"
   ]
  },
  {
   "cell_type": "markdown",
   "metadata": {},
   "source": [
    "<hr>\n",
    "<a href=\"../Index.ipynb\" target=\"_blank\"><< Index</a>\n",
    "<br>\n",
    "<a href=\"./1_1a_OSI_SAF_wind_FTP_data_access.ipynb\"><< Accessing OSI SAF wind products from KNMI FTP server</a>&nbsp;&nbsp;&nbsp;&nbsp;&nbsp;<a href=\"./1_2a_OSI_SAF_wind_ASCAT_file_structure.ipynb\">OSI SAF wind ASCAT file structure >></a>\n",
    "<hr>\n",
    "<a href=\"https://gitlab.eumetsat.int/eumetlab/ocean\">View on GitLab</a> | <a href=\"https://training.eumetsat.int/\">EUMETSAT Training</a> | <a href=mailto:ops@eumetsat.int>Contact helpdesk for support </a> | <a href=mailto:training@eumetsat.int>Contact our training team to collaborate on and reuse this material</a></span></p>"
   ]
  }
 ],
 "metadata": {
  "author": "Olivier Membrive, Cecile Hernandez, Ad Stoffelen, Anton Verhoef, Ben Loveday, Hayley Evers-King, Gwenael Le Bras",
  "content_type": "Software & code",
  "data_access": "Data Store",
  "deployment": {
   "eumetsat": {
    "binder": {
     "link": "https://mybinder.org/v2/git/https%3A%2F%2Fgitlab.eumetsat.int%2Feumetlab%2Foceans%2Focean-training%2Fsensors%2Flearn-osi-saf-wind/HEAD?labpath=1_OSI_SAF_wind_introductory%2F1_1b_OSI_SAF_wind_data_access_eumdac.ipynb",
     "service_contact": "ops@eumetsat.int",
     "service_provider": "EUMETSAT"
    },
    "git": {
     "link": "https://gitlab.eumetsat.int/eumetlab/oceans/ocean-training/sensors/learn-osi-saf-wind/-/blob/main/1_OSI_SAF_wind_introductory/1_1b_OSI_SAF_wind_data_access_eumdac.ipynb",
     "service_contact": "ops@eumetsat.int",
     "service_provider": "EUMETSAT"
    }
   },
   "wekeo": {
    "git": {
     "link": " ",
     "service_contact": "ops@eumetsat.int",
     "service_provider": "EUMETSAT"
    },
    "url": {
     "link": " ",
     "service_contact": "ops@eumetsat.int",
     "service_provider": "EUMETSAT"
    }
   }
  },
  "description": "This Jupyter Notebook covers advanced access to OSI SAF wind products via the EUMETSAT Data Store.",
  "image": "../img/thumbs/1_1b_OSI_SAF_wind_data_access_eumdac_thumb.png",
  "kernelspec": {
   "display_name": "Python 3 (ipykernel)",
   "language": "python",
   "name": "python3"
  },
  "language_info": {
   "codemirror_mode": {
    "name": "ipython",
    "version": 3
   },
   "file_extension": ".py",
   "mimetype": "text/x-python",
   "name": "python",
   "nbconvert_exporter": "python",
   "pygments_lexer": "ipython3",
   "version": "3.12.2"
  },
  "license": "MIT",
  "metadata_schema_version": "2.0.0",
  "originator": "EUMETSAT",
  "tags": {
   "data_provider": "EUMETSAT",
   "orbit": "LEO",
   "satellite": "Metop",
   "sensor": "ACSAT (Metop)",
   "service": "OSI SAF",
   "subtheme": "Ocean dynamics",
   "theme": "Marine",
   "variable": [
    "Wind speed",
    "Wind direction",
    "Wind vectors"
   ]
  },
  "title": "Accessing OSI SAF wind products via the EUMETSAT Data Store.",
  "version": "2.0.0",
  "version_date": "2024-07-01"
 },
 "nbformat": 4,
 "nbformat_minor": 4
}
